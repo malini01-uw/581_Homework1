{
 "cells": [
  {
   "cell_type": "code",
   "execution_count": 63,
   "id": "3687f511-aff6-4885-aa8c-012c538455c3",
   "metadata": {},
   "outputs": [
    {
     "data": {
      "text/plain": [
       "[-1.6,\n",
       " 3.1979951385210694,\n",
       " 2.4644024441424284,\n",
       " 1.2035359007112925,\n",
       " 0.6502014632644292,\n",
       " -0.1169233418248703,\n",
       " -0.6605234854521386,\n",
       " -0.5219265439062168,\n",
       " -0.5665527428708069,\n",
       " -0.5707465821813341,\n",
       " -0.57078961788788,\n",
       " -0.57078962246829]"
      ]
     },
     "execution_count": 63,
     "metadata": {},
     "output_type": "execute_result"
    }
   ],
   "source": [
    "import numpy as np\n",
    "\n",
    "def f(x):\n",
    "    return x * np.sin(3*x) - np.exp(x)\n",
    "def f_prime(x):\n",
    "    return x* 3 *np.cos(3*x) + np.sin(3*x) - np.exp(x)\n",
    "\n",
    "def newton_raphson(f, f_prime, x0, err, max_iters):\n",
    "    pts = [x0]\n",
    "    for i in range(max_iters):\n",
    "        pts.append(pts[-1] - f(pts[-1]) / f_prime(pts[-1]))\n",
    "        if np.abs(f(pts[-2]))<err:\n",
    "            return pts, len(pts) - 1\n",
    "\n",
    "    raise RuntimeError('Newton-Raphson does not converge')\n",
    "\n",
    "A1, itr_count = newton_raphson(f, f_prime, -1.6, 1e-6, 1_000)\n",
    "A1"
   ]
  },
  {
   "cell_type": "code",
   "execution_count": 27,
   "id": "d829181a-9664-44f5-97e1-02dcc9313cd2",
   "metadata": {},
   "outputs": [
    {
     "name": "stdout",
     "output_type": "stream",
     "text": [
      "A2 - Root found at xc: -0.5707893371582031\n",
      "Nuber of iterations: 17\n",
      "[-0.55, -0.625, -0.5875, -0.5687500000000001, -0.578125, -0.5734375, -0.5710937500000001, -0.5699218750000001, -0.5705078125, -0.57080078125, -0.570654296875, -0.5707275390625, -0.57076416015625, -0.570782470703125, -0.5707916259765625, -0.5707870483398438, -0.5707893371582031]\n"
     ]
    }
   ],
   "source": [
    "import numpy as np\n",
    "\n",
    "xr = -0.4\n",
    "xl = -0.7\n",
    "x_mid = []\n",
    "for j in range(1,1000):\n",
    "    xc = (xr + xl) / 2  # Calculate the midpoint\n",
    "    x_mid.append(xc)\n",
    "    fc = xc*np.sin(3*xc)-np.exp(xc) # Calculate the function value\n",
    "    \n",
    "    if fc > 0:\n",
    "        xl = xc  # Update the lower bound\n",
    "    else:\n",
    "        xr = xc  # Update the upper bound\n",
    "\n",
    "    if abs(fc) < 1e-6:  # Check for convergence\n",
    "        print(\"A2 - Root found at xc:\", xc)  # Use print instead of display\n",
    "        print(\"Nuber of iterations:\", j)\n",
    "        break\n",
    "A2 = x_mid\n",
    "print(A2)"
   ]
  },
  {
   "cell_type": "code",
   "execution_count": 6,
   "id": "f32df36b-b41d-4092-84e6-4997a837d756",
   "metadata": {},
   "outputs": [
    {
     "name": "stdout",
     "output_type": "stream",
     "text": [
      "A3: [11, 17]\n"
     ]
    }
   ],
   "source": [
    "import numpy as np\n",
    "\n",
    "#ways to make row vectors\n",
    "A3 = [11, 17]\n",
    "print(\"A3:\", A3)"
   ]
  },
  {
   "cell_type": "code",
   "execution_count": 37,
   "id": "055c18c2-62a0-4c53-b9a5-67394a2fd693",
   "metadata": {},
   "outputs": [
    {
     "name": "stdout",
     "output_type": "stream",
     "text": [
      "A1: [-1.6         3.19799514  2.46440244  1.2035359   0.65020146 -0.11692334\n",
      " -0.66052349 -0.52192654 -0.56655274 -0.57074658 -0.57078962]\n",
      "A2: [-0.55, -0.625, -0.5875, -0.5687500000000001, -0.578125, -0.5734375, -0.5710937500000001, -0.5699218750000001, -0.5705078125, -0.57080078125, -0.570654296875, -0.5707275390625, -0.57076416015625, -0.570782470703125, -0.5707916259765625, -0.5707870483398438, -0.5707893371582031]\n",
      "A3: [11, 17]\n"
     ]
    }
   ],
   "source": [
    "print(\"A1:\",A1)\n",
    "print(\"A2:\",A2)\n",
    "print(\"A3:\",A3)"
   ]
  },
  {
   "cell_type": "code",
   "execution_count": 39,
   "id": "e6a5be81-8476-4cd0-ac54-009256c14368",
   "metadata": {},
   "outputs": [
    {
     "name": "stdout",
     "output_type": "stream",
     "text": [
      "A4: [[ 3  2]\n",
      " [-1  3]]\n",
      "A5: [ 3 -4]\n",
      "A6: [[ 1  0]\n",
      " [-1  0]]\n",
      "A7: [[ 2  0]\n",
      " [ 0 -2]]\n",
      "A8: [ 1  2 -1]\n",
      "A9: [ 3  5 -1]\n",
      "A10: [[ 2  4]\n",
      " [-2  2]]\n",
      "A11: [[ 4  0 -6]\n",
      " [ 0  0 -2]]\n",
      "A12: [[5 4]\n",
      " [1 0]]\n"
     ]
    }
   ],
   "source": [
    "import numpy as np\n",
    "A = np.array([[1,2],[-1,1]])\n",
    "B = np.array([[2,0],[0,2]])\n",
    "C = np.array([[2,0,-3],[0,0,-1]])\n",
    "D = np.array([[1,2],[2,3],[-1,0]])\n",
    "x = np.array([1,0])\n",
    "y = np.array([0,1])\n",
    "z = np.array([1,2,-1])\n",
    "\n",
    "A4 = A+B\n",
    "A5 = 3*x-4*y\n",
    "A6 = A@x\n",
    "A7 = B@(x-y)\n",
    "A8 = D@x\n",
    "A9 = D@y+z\n",
    "A10 = A@B\n",
    "A11 = B@C\n",
    "A12 = C@D\n",
    "\n",
    "print(\"A4:\", A+B)\n",
    "print(\"A5:\", 3*x-4*y)\n",
    "print(\"A6:\", A*x)\n",
    "print(\"A7:\", B*(x-y))\n",
    "print(\"A8:\", D@x)\n",
    "print(\"A9:\", D@y+z)\n",
    "print(\"A10:\", A@B)\n",
    "print(\"A11:\", B@C)\n",
    "print(\"A12:\", C@D)"
   ]
  },
  {
   "cell_type": "code",
   "execution_count": null,
   "id": "4511e8d6-3ec0-43f3-b294-637acaa56723",
   "metadata": {},
   "outputs": [],
   "source": []
  }
 ],
 "metadata": {
  "kernelspec": {
   "display_name": "Python 3 (ipykernel)",
   "language": "python",
   "name": "python3"
  },
  "language_info": {
   "codemirror_mode": {
    "name": "ipython",
    "version": 3
   },
   "file_extension": ".py",
   "mimetype": "text/x-python",
   "name": "python",
   "nbconvert_exporter": "python",
   "pygments_lexer": "ipython3",
   "version": "3.12.4"
  }
 },
 "nbformat": 4,
 "nbformat_minor": 5
}
